{
 "cells": [
  {
   "cell_type": "code",
   "execution_count": 1,
   "metadata": {},
   "outputs": [],
   "source": [
    "import pandas as pd\n",
    "import openrouteservice as ors\n",
    "import folium\n",
    "from PIL import Image\n",
    "import numpy as np\n",
    "\n",
    "import sys\n",
    "sys.path.append(\"..\")\n",
    "import seaborn as sns\n",
    "import matplotlib.pyplot as plt\n",
    "from citibikeAPI import *\n",
    "from utils import *\n",
    "import time \n",
    "\n",
    "# dont need the below if we use local instance of ORS\n",
    "# client = ors.Client(key='5b3ce3597851110001cf62487d33115ea15e483bb81a0b4cfcc899cb')"
   ]
  },
  {
   "cell_type": "code",
   "execution_count": 2,
   "metadata": {},
   "outputs": [
    {
     "name": "stderr",
     "output_type": "stream",
     "text": [
      "c:\\Users\\lakeh\\OneDrive\\Documents\\art\\projects\\citibike_data\\TD-Citibike-Data-Viz\\data\\code\\notebooks\\..\\citibikeAPI.py:136: DtypeWarning: Columns (7) have mixed types. Specify dtype option on import or set low_memory=False.\n",
      "  trip_data = pd.read_csv(csv)\n"
     ]
    }
   ],
   "source": [
    "trip_data = '../../raw/202303-citibike-tripdata.csv'\n",
    "topten = getTopTenConnections(trip_data)\n"
   ]
  },
  {
   "cell_type": "code",
   "execution_count": 3,
   "metadata": {},
   "outputs": [],
   "source": [
    "routeData = pd.read_csv('../../clean/routeData.csv').set_index('Unnamed: 0')"
   ]
  },
  {
   "cell_type": "code",
   "execution_count": 4,
   "metadata": {},
   "outputs": [
    {
     "name": "stdout",
     "output_type": "stream",
     "text": [
      "sucessfully initialized\n"
     ]
    }
   ],
   "source": [
    "\n",
    "delay = 5\n",
    "#initialize with an empty funtion call \n",
    "nDF, chgs = getEbikeEventsJSON()\n",
    "oDF = nDF #set our old dataframe to our baseline from initialization \n",
    "print('sucessfully initialized')\n",
    "time.sleep(delay) #wait after we setup\n",
    "#this should run each minute \n",
    "starttime = time.time()\n",
    "iter = 0\n",
    "\n",
    "nDF , chgs = getEbikeEventsJSON(oDF)\n",
    "oDF = nDF\n",
    "\n",
    "\n",
    "#needs to output a json like this\n",
    "\n",
    "newRoutes = {}\n",
    "newRoutes['routes'] = []\n",
    "for k,v in chgs.items():\n",
    "    if v['gain_loss'] > 0: #if it is a route start\n",
    "      try:\n",
    "        tt = topten[k]\n",
    "        weights = tt/tt.values.sum()\n",
    "        for r in tt.index: \n",
    "          event = {}\n",
    "          key = k + '-' + r\n",
    "          event['id'] = routeData.loc[key, 'id']\n",
    "          # event['timestamp'] = v['timestamp']\n",
    "          event['weight'] = weights.loc[r]\n",
    "          event['pts'] = routeData.loc[key, 'pts']\n",
    "          event['offset'] = routeData.loc[key, 'offset']\n",
    "          event['duration'] = 1 #TODO: improve this\n",
    "          newRoutes['routes'].append(event)\n",
    "      except: \n",
    "         pass \n"
   ]
  },
  {
   "cell_type": "code",
   "execution_count": 5,
   "metadata": {},
   "outputs": [
    {
     "data": {
      "text/plain": [
       "dict_items([('Ditmars Blvd & 19 St', {'new_bike_count': 2, 'timestamp': 1682770827, 'gain_loss': -1})])"
      ]
     },
     "execution_count": 5,
     "metadata": {},
     "output_type": "execute_result"
    }
   ],
   "source": [
    "chgs.items()"
   ]
  },
  {
   "cell_type": "code",
   "execution_count": 6,
   "metadata": {},
   "outputs": [],
   "source": [
    "pd.DataFrame(newRoutes).to_json('../../clean/sampleRealTime.json')"
   ]
  },
  {
   "cell_type": "code",
   "execution_count": 7,
   "metadata": {},
   "outputs": [],
   "source": [
    "pd.DataFrame(newRoutes['routes']).to_csv('../../clean/sampleRealTime.csv')"
   ]
  },
  {
   "cell_type": "code",
   "execution_count": 9,
   "metadata": {},
   "outputs": [],
   "source": [
    "def getEbikeData(old_dataframe=None):\n",
    "\n",
    "\tchanges = []\n",
    "\n",
    "\tstation_status_url = 'https://gbfs.citibikenyc.com/gbfs/en/station_status.json'\n",
    "\t#get station status\n",
    "\twith urllib.request.urlopen(station_status_url) as url:\n",
    "\t\tstation_status_data = json.load(url)\n",
    "\n",
    "\tstation_status_df = pd.DataFrame(station_status_data['data']['stations']).set_index('station_id')\n",
    "\tstation_status_df = station_status_df[['num_ebikes_available', 'last_reported']] #extract cols of interest, here just ebike and update timestampe \n",
    "\t#TODO: we should probably screen out ebike updates due to station-level events such as activation / nonactivation, rebalancing, etc \n",
    "\n",
    "\tupdated_df = station_status_df\n",
    "\n",
    "\tif old_dataframe is None: return station_status_df.sort_index(), pd.DataFrame(changes, columns = ['station_id', 'num_ebikes_available', 'gain_loss', 'window_start', 'window_end']).set_index('station_id')\n",
    "\telse: \n",
    "\t\tudc = updated_df.sort_index()\n",
    "\t\tsdc = old_dataframe.sort_index()\n",
    "\n",
    "\t\tfor i in sdc.index:\n",
    "\t\t\tif udc.loc[i,'num_ebikes_available'] == sdc.loc[i,'num_ebikes_available']: pass \n",
    "\t\t\telse: \n",
    "\t\t\t\tnew_bike_count = udc.loc[i].to_list()[0]\n",
    "\t\t\t\twindow_end = udc.loc[i].to_list()[1]\n",
    "\t\t\t\told_bike_count = sdc.loc[i].to_list()[0]\n",
    "\t\t\t\twindow_start = sdc.loc[i].to_list()[1]\n",
    "\t\t\t\tchanges += [[i, new_bike_count, old_bike_count-new_bike_count, window_start, window_end]]\n",
    "\t\t\t\t# print('change!', udc.loc[i,'num_ebikes_available'], sdc.loc[i,'num_ebikes_available'], i, udc.loc[i, 'last_reported'])\n",
    "\t\t\n",
    "\t\treturn udc, pd.DataFrame(changes, columns = ['station_id', 'num_ebikes_available', 'gain_loss', 'window_start', 'window_end']).set_index('station_id')\n",
    "\t\t# return new df, changes"
   ]
  },
  {
   "cell_type": "code",
   "execution_count": null,
   "metadata": {},
   "outputs": [],
   "source": []
  }
 ],
 "metadata": {
  "kernelspec": {
   "display_name": "base",
   "language": "python",
   "name": "python3"
  },
  "language_info": {
   "codemirror_mode": {
    "name": "ipython",
    "version": 3
   },
   "file_extension": ".py",
   "mimetype": "text/x-python",
   "name": "python",
   "nbconvert_exporter": "python",
   "pygments_lexer": "ipython3",
   "version": "3.9.12"
  },
  "orig_nbformat": 4,
  "vscode": {
   "interpreter": {
    "hash": "a2ab3825ac7005fb7b26f112e9c99ae62f464c629e30b0d534c3b931b6cbc3ff"
   }
  }
 },
 "nbformat": 4,
 "nbformat_minor": 2
}
